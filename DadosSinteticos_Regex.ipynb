{
  "nbformat": 4,
  "nbformat_minor": 0,
  "metadata": {
    "colab": {
      "provenance": [],
      "authorship_tag": "ABX9TyNhdSJOXhVlc6z+CTRyNi94",
      "include_colab_link": true
    },
    "kernelspec": {
      "name": "python3",
      "display_name": "Python 3"
    },
    "language_info": {
      "name": "python"
    }
  },
  "cells": [
    {
      "cell_type": "markdown",
      "metadata": {
        "id": "view-in-github",
        "colab_type": "text"
      },
      "source": [
        "<a href=\"https://colab.research.google.com/github/costaljorge/ChatGPT_Regex/blob/main/DadosSinteticos_Regex.ipynb\" target=\"_parent\"><img src=\"https://colab.research.google.com/assets/colab-badge.svg\" alt=\"Open In Colab\"/></a>"
      ]
    },
    {
      "cell_type": "code",
      "execution_count": null,
      "metadata": {
        "id": "8cmfCxm_BCUe"
      },
      "outputs": [],
      "source": [
        "# Importando as Bibliotecas\n",
        "import pandas as pd\n",
        "import random\n",
        "import string\n",
        "\n",
        "# Função para gerar um email aleatório\n",
        "def gerar_email():\n",
        "    dominios = ['gmail.com', 'yahoo.com', 'hotmail.com']\n",
        "    letras = string.ascii_lowercase\n",
        "    nome = ''.join(random.choice(letras) for i in range(5))\n",
        "    dominio = random.choice(dominios)\n",
        "    return nome + '@' + dominio\n",
        "\n",
        "# Função para gerar uma data no formato dd/mm/aaaa\n",
        "def gerar_data():\n",
        "    dia = str(random.randint(1, 28)).zfill(2)\n",
        "    mes = str(random.randint(1, 12)).zfill(2)\n",
        "    ano = str(random.randint(2000, 2025))\n",
        "    return dia + '/' + mes + '/' + ano\n",
        "\n",
        "# Função para gerar um número de telefone no formato (xx) xxxxx-xxxx\n",
        "def gerar_telefone():\n",
        "    return '(' + str(random.randint(11, 99)) + ') ' + str(random.randint(10000, 99999)) + '-' + str(random.randint(1000, 9999))\n",
        "\n",
        "# Função para gerar uma URL\n",
        "def gerar_url():\n",
        "    sites = ['google', 'yahoo', 'bing', 'duckduckgo']\n",
        "    return 'www.' + random.choice(sites) + '.com'\n",
        "\n",
        "# Função para gerar um código alfanumérico de 5 caracteres\n",
        "def gerar_codigo():\n",
        "    return ''.join(random.choice(string.ascii_uppercase + string.digits) for _ in range(5))\n",
        "\n",
        "# Criando o DataFrame\n",
        "df = pd.DataFrame({\n",
        "    'Email': [gerar_email() for _ in range(100)],\n",
        "    'Data': [gerar_data() for _ in range(100)],\n",
        "    'Telefone': [gerar_telefone() for _ in range(100)],\n",
        "    'URL': [gerar_url() for _ in range(100)],\n",
        "    'Código': [gerar_codigo() for _ in range(100)]\n",
        "})\n",
        "\n",
        "print(df.head())\n",
        "\n",
        "df.to_excel('Dataset_Regex.xlsx')\n"
      ]
    }
  ]
}